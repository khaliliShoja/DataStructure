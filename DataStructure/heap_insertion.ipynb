{
 "cells": [
  {
   "cell_type": "markdown",
   "metadata": {},
   "source": [
    "We would like to implement heap just insertaion function"
   ]
  },
  {
   "cell_type": "code",
   "execution_count": 3,
   "metadata": {
    "collapsed": false
   },
   "outputs": [
    {
     "name": "stdout",
     "output_type": "stream",
     "text": [
      "[210, 100, 23, 2, 5, 0, 0, 0, 0, 0]\n"
     ]
    }
   ],
   "source": [
    "\n",
    "class Heap:\n",
    "  HEAP_SIZE=10\n",
    "  def __init__(self):\n",
    "    self.heap=[0]*self.HEAP_SIZE\n",
    "    self.pointer=0\n",
    "  def insert(self, data):\n",
    "    self.heap[self.pointer]=data\n",
    "    a=self.pointer\n",
    "    b=a//2\n",
    "    k=1\n",
    "    while (k==1):\n",
    "      if(self.heap[b] < self.heap[a]):\n",
    "        self.swap(b,a)\n",
    "        a=b\n",
    "        b=a//2\n",
    "      else:\n",
    "        k=0\n",
    "    self.pointer=self.pointer+1    \n",
    "  def swap(self, b,a):\n",
    "    temp=self.heap[b]\n",
    "    self.heap[b]=self.heap[a]\n",
    "    self.heap[a]=temp\n",
    "  def show(self):\n",
    "    print(self.heap)\n",
    "h=Heap()\n",
    "h.insert(23)\n",
    "h.insert(5)\n",
    "h.insert(100)\n",
    "h.insert(2)\n",
    "h.insert(210)\n",
    "h.show()\n",
    "          \n",
    "    "
   ]
  },
  {
   "cell_type": "code",
   "execution_count": null,
   "metadata": {
    "collapsed": true
   },
   "outputs": [],
   "source": []
  }
 ],
 "metadata": {
  "kernelspec": {
   "display_name": "Python 3",
   "language": "python",
   "name": "python3"
  },
  "language_info": {
   "codemirror_mode": {
    "name": "ipython",
    "version": 3
   },
   "file_extension": ".py",
   "mimetype": "text/x-python",
   "name": "python",
   "nbconvert_exporter": "python",
   "pygments_lexer": "ipython3",
   "version": "3.6.0"
  }
 },
 "nbformat": 4,
 "nbformat_minor": 2
}
