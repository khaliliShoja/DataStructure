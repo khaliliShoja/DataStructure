{
 "cells": [
  {
   "cell_type": "markdown",
   "metadata": {},
   "source": [
    "BST"
   ]
  },
  {
   "cell_type": "code",
   "execution_count": 1,
   "metadata": {
    "collapsed": false
   },
   "outputs": [
    {
     "name": "stdout",
     "output_type": "stream",
     "text": [
      "5\n",
      "10\n",
      "13\n",
      "14\n",
      "[5, 10, 13, 14]\n"
     ]
    }
   ],
   "source": [
    "class Node:\n",
    "  def __init__(self, data):\n",
    "    self.data=data\n",
    "    self.leftChild=None\n",
    "    self.rightChild=None\n",
    "    \n",
    "class BinarySearchTree:\n",
    "  def __init__(self):\n",
    "    self.root=None\n",
    "  def insert(self, data):\n",
    "    node=Node(data)\n",
    "    if(self.root==None):\n",
    "      self.root=node\n",
    "    else:\n",
    "      self.insertNode(self.root, data)\n",
    "  \n",
    "  def insertNode(self, node1, data):\n",
    "    node=Node(data)\n",
    "    if(data < node1.data):\n",
    "      if(node1.leftChild==None):\n",
    "        node1.leftChild=node\n",
    "      else:\n",
    "        self.insertNode(node1.leftChild, data) #Note that self is needed\n",
    "    else:\n",
    "      if(node1.rightChild==None):\n",
    "        node1.rightChild=node\n",
    "      else:\n",
    "        self.insertNode(node1.rightChild, data)\n",
    "  \n",
    "  \n",
    "  def findMinMaster(self):\n",
    "    node=self.root\n",
    "    a=self.findMin(node)\n",
    "    return a\n",
    "  def findMin(self,node):\n",
    "    if(node.leftChild==None):\n",
    "      return node.data\n",
    "    else:\n",
    "      b=self.findMin(node.leftChild)\n",
    "    return b\n",
    "  def traversein(self):\n",
    "    if(self.root==None):\n",
    "      return \n",
    "    else:\n",
    "      a=self.traverse(self.root, [])\n",
    "    return a  \n",
    "  def traverse(self, node1, l):\n",
    "    if(node1==None):\n",
    "      return \n",
    "   \n",
    "    if(node1.leftChild!=None):\n",
    "      self.traverse(node1.leftChild,l)\n",
    "    print(node1.data)\n",
    "    l.append(node1.data)\n",
    "    if(node1.rightChild!=None):\n",
    "      self.traverse(node1.rightChild,l)\n",
    "    return l\n",
    "bst=BinarySearchTree()\n",
    "bst.insert(10)\n",
    "bst.insert(13)\n",
    "bst.insert(5)\n",
    "bst.insert(14)\n",
    "\n",
    "\n",
    "#a=bst.findMinMaster()\n",
    "#print(a)\n",
    "a=bst.traversein()\n",
    "\n",
    "\n",
    "\n",
    "print(a)\n",
    "\n",
    "\n",
    "\n",
    "    \n",
    "        \n",
    "        \n",
    "      "
   ]
  },
  {
   "cell_type": "code",
   "execution_count": null,
   "metadata": {
    "collapsed": true
   },
   "outputs": [],
   "source": []
  }
 ],
 "metadata": {
  "kernelspec": {
   "display_name": "Python 3",
   "language": "python",
   "name": "python3"
  },
  "language_info": {
   "codemirror_mode": {
    "name": "ipython",
    "version": 3
   },
   "file_extension": ".py",
   "mimetype": "text/x-python",
   "name": "python",
   "nbconvert_exporter": "python",
   "pygments_lexer": "ipython3",
   "version": "3.6.0"
  }
 },
 "nbformat": 4,
 "nbformat_minor": 2
}
