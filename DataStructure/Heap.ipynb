{
 "cells": [
  {
   "cell_type": "markdown",
   "metadata": {},
   "source": [
    "We would like to implement heap just insertaion function"
   ]
  },
  {
   "cell_type": "code",
   "execution_count": 5,
   "metadata": {
    "collapsed": false
   },
   "outputs": [
    {
     "name": "stdout",
     "output_type": "stream",
     "text": [
      "[10, 2, -20, 0, 0, 0, 0, 0, 0, 0]\n",
      "[0, 2, -20, 10, 0, 0, 0, 0, 0, 0] bbb\n",
      "[2, 0, -20, 10, 0, 0, 0, 0, 0, 0] aaaa\n",
      "[2, 0, -20, 10, 0, 0, 0, 0, 0, 0] aaaa\n",
      "[-20, 0, 2, 10, 0, 0, 0, 0, 0, 0] bbb\n",
      "[-20, 0, 2, 10, 0, 0, 0, 0, 0, 0] aaaa\n",
      "[0, -20, 2, 10, 0, 0, 0, 0, 0, 0] bbb\n",
      "[0, -20, 2, 10, 0, 0, 0, 0, 0, 0] aaaa\n",
      "[-20, 0, 2, 10, 0, 0, 0, 0, 0, 0]\n"
     ]
    }
   ],
   "source": [
    "\n",
    "\n",
    "class Heap:\n",
    "  HEAP_SIZE=10\n",
    "  def __init__(self):\n",
    "    self.heap=[0]*self.HEAP_SIZE\n",
    "    self.pointer=0\n",
    "    \n",
    "  \n",
    "  \n",
    "  def insert(self, data):\n",
    "    self.heap[self.pointer]=data\n",
    "    \n",
    "    a=self.pointer\n",
    "    b=a//2\n",
    "    k=1\n",
    "    while (k==1):\n",
    "      if(self.heap[b] < self.heap[a]):\n",
    "        self.swap(b,a)\n",
    "        a=b\n",
    "        b=a//2\n",
    "      else:\n",
    "        k=0\n",
    "    self.pointer=self.pointer+1    \n",
    "  def swap(self, b,a):\n",
    "    temp=self.heap[b]\n",
    "    self.heap[b]=self.heap[a]\n",
    "    self.heap[a]=temp\n",
    "\n",
    "  def show(self):\n",
    "    print(self.heap)\n",
    "\n",
    "  def heapsort(self):\n",
    "    a=self.pointer\n",
    "    a=a-1\n",
    "    #print(\"salam\", a)\n",
    "    while (a > 0):\n",
    "      #print(a)\n",
    "      temp=self.heap[0]\n",
    "      self.heap[0]=self.heap[a]\n",
    "      self.heap[a]=temp\n",
    "      k=1\n",
    "      j=0\n",
    "      i=0\n",
    "      print(self.heap, \"bbb\")\n",
    "      while (k==1):\n",
    "        if(self.heap[j] < self.heap [2*j+1] and self.heap[2*j+1] >= self.heap[2*j+2] and j<(a-1)/2):\n",
    "          self.swap(j, 2*j+1)\n",
    "          j=2*j+1\n",
    "        elif(self.heap[j] < self.heap [2*j+2] and self.heap[2*j+2] >= self.heap[2*j+1] and j<(a-2)/2):\n",
    "          self.swap(j, 2*j+2)\n",
    "          j=2*j+2\n",
    "        else:\n",
    "          k=0\n",
    "        print(self.heap, \"aaaa\")\n",
    "        i=i+1\n",
    "      if(a==1):\n",
    "        if(self.heap[0] > self.heap[1]):\n",
    "          self.swap(0,1)\n",
    "      a=a-1\n",
    "      j=0\n",
    "    \n",
    "  \n",
    "  \n",
    "  \n",
    "\n",
    "h=Heap()\n",
    "h.insert(10)\n",
    "h.insert(-20)\n",
    "h.insert(0)\n",
    "h.insert(2)\n",
    "#h.insert(210)\n",
    "h.show()\n",
    "h.heapsort()\n",
    "h.show()\n",
    "    "
   ]
  },
  {
   "cell_type": "code",
   "execution_count": null,
   "metadata": {
    "collapsed": true
   },
   "outputs": [],
   "source": []
  }
 ],
 "metadata": {
  "kernelspec": {
   "display_name": "Python 3",
   "language": "python",
   "name": "python3"
  },
  "language_info": {
   "codemirror_mode": {
    "name": "ipython",
    "version": 3
   },
   "file_extension": ".py",
   "mimetype": "text/x-python",
   "name": "python",
   "nbconvert_exporter": "python",
   "pygments_lexer": "ipython3",
   "version": "3.6.0"
  }
 },
 "nbformat": 4,
 "nbformat_minor": 2
}
